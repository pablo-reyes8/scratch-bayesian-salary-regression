{
 "cells": [
  {
   "cell_type": "markdown",
   "metadata": {},
   "source": [
    "# Imputation of the data \n",
    "\n",
    "---"
   ]
  },
  {
   "cell_type": "markdown",
   "metadata": {},
   "source": [
    "## Important Librarys"
   ]
  },
  {
   "cell_type": "code",
   "execution_count": 1,
   "metadata": {},
   "outputs": [],
   "source": [
    "import pandas as pd \n",
    "import numpy as np \n",
    "import scipy as sp \n",
    "import matplotlib.pyplot as plt "
   ]
  },
  {
   "cell_type": "markdown",
   "metadata": {},
   "source": [
    "## Search off Missing Values"
   ]
  },
  {
   "cell_type": "code",
   "execution_count": 2,
   "metadata": {},
   "outputs": [
    {
     "data": {
      "application/vnd.microsoft.datawrangler.viewer.v0+json": {
       "columns": [
        {
         "name": "index",
         "rawType": "object",
         "type": "string"
        },
        {
         "name": "0",
         "rawType": "int64",
         "type": "integer"
        }
       ],
       "ref": "53cfbf03-fae2-4d1c-8ba6-6e4b5a8fbe08",
       "rows": [
        [
         "salary",
         "8"
        ],
        [
         "cost",
         "6"
        ],
        [
         "LSAT",
         "6"
        ],
        [
         "GPA",
         "7"
        ],
        [
         "age",
         "45"
        ],
        [
         "llibvol",
         "1"
        ],
        [
         "lcost",
         "6"
        ],
        [
         "rank",
         "0"
        ]
       ],
       "shape": {
        "columns": 1,
        "rows": 8
       }
      },
      "text/plain": [
       "salary      8\n",
       "cost        6\n",
       "LSAT        6\n",
       "GPA         7\n",
       "age        45\n",
       "llibvol     1\n",
       "lcost       6\n",
       "rank        0\n",
       "dtype: int64"
      ]
     },
     "execution_count": 2,
     "metadata": {},
     "output_type": "execute_result"
    }
   ],
   "source": [
    "base = pd.read_excel('lawsch85.xlsx')\n",
    "variables = base[['salary' , 'cost' , 'LSAT' , 'GPA' ,'age' , 'llibvol' , 'lcost' , 'rank']]\n",
    "variables.isna().sum()"
   ]
  },
  {
   "cell_type": "markdown",
   "metadata": {},
   "source": [
    "## KNN for impute missing values "
   ]
  },
  {
   "cell_type": "code",
   "execution_count": 3,
   "metadata": {},
   "outputs": [],
   "source": [
    "from sklearn.pipeline import Pipeline\n",
    "from sklearn.preprocessing import StandardScaler\n",
    "from sklearn.impute import KNNImputer\n",
    "\n",
    "numericas = ['rank']\n",
    "imputar = [i for i in variables.columns if i != 'rank']\n",
    "\n",
    "pipeline = Pipeline([\n",
    "    ('scaler', StandardScaler()),\n",
    "    ('imputer', KNNImputer(n_neighbors=5, weights='uniform'))]) \n",
    "\n",
    "X_scaled_imputed = pipeline.fit_transform(variables)\n",
    "\n",
    "# Restore the original scale\n",
    "scaler = pipeline.named_steps['scaler']\n",
    "X_imputed = scaler.inverse_transform(X_scaled_imputed)\n",
    "\n",
    "base_imputada = pd.DataFrame(X_imputed , columns=variables.columns , index=variables.index)\n",
    "\n",
    "variables = variables.copy()\n",
    "variables[imputar] = base_imputada[imputar]"
   ]
  },
  {
   "cell_type": "code",
   "execution_count": 4,
   "metadata": {},
   "outputs": [
    {
     "data": {
      "application/vnd.microsoft.datawrangler.viewer.v0+json": {
       "columns": [
        {
         "name": "index",
         "rawType": "object",
         "type": "string"
        },
        {
         "name": "0",
         "rawType": "int64",
         "type": "integer"
        }
       ],
       "ref": "57c39413-cd97-4ead-9606-59209e3d1370",
       "rows": [
        [
         "salary",
         "0"
        ],
        [
         "cost",
         "0"
        ],
        [
         "LSAT",
         "0"
        ],
        [
         "GPA",
         "0"
        ],
        [
         "age",
         "0"
        ],
        [
         "llibvol",
         "0"
        ],
        [
         "lcost",
         "0"
        ],
        [
         "rank",
         "0"
        ]
       ],
       "shape": {
        "columns": 1,
        "rows": 8
       }
      },
      "text/plain": [
       "salary     0\n",
       "cost       0\n",
       "LSAT       0\n",
       "GPA        0\n",
       "age        0\n",
       "llibvol    0\n",
       "lcost      0\n",
       "rank       0\n",
       "dtype: int64"
      ]
     },
     "execution_count": 4,
     "metadata": {},
     "output_type": "execute_result"
    }
   ],
   "source": [
    "variables.isna().sum()"
   ]
  },
  {
   "cell_type": "code",
   "execution_count": 5,
   "metadata": {},
   "outputs": [
    {
     "data": {
      "application/vnd.microsoft.datawrangler.viewer.v0+json": {
       "columns": [
        {
         "name": "index",
         "rawType": "object",
         "type": "string"
        },
        {
         "name": "salary",
         "rawType": "float64",
         "type": "float"
        },
        {
         "name": "cost",
         "rawType": "float64",
         "type": "float"
        },
        {
         "name": "LSAT",
         "rawType": "float64",
         "type": "float"
        },
        {
         "name": "GPA",
         "rawType": "float64",
         "type": "float"
        },
        {
         "name": "age",
         "rawType": "float64",
         "type": "float"
        },
        {
         "name": "llibvol",
         "rawType": "float64",
         "type": "float"
        },
        {
         "name": "lcost",
         "rawType": "float64",
         "type": "float"
        },
        {
         "name": "rank",
         "rawType": "float64",
         "type": "float"
        }
       ],
       "ref": "823867ad-4d51-4aae-b38d-77cd191b14a9",
       "rows": [
        [
         "count",
         "156.0",
         "156.0",
         "156.0",
         "156.0",
         "156.0",
         "156.0",
         "156.0",
         "156.0"
        ],
        [
         "mean",
         "38771.723076923074",
         "12685.958974358975",
         "158.25641025641025",
         "3.299499998948513",
         "84.20641025641027",
         "5.753478854741806",
         "9.387447112645859",
         "83.75"
        ],
        [
         "std",
         "12025.830421135817",
         "3953.91313401525",
         "4.707923033426558",
         "0.20142353273717908",
         "35.94884839016392",
         "0.4156234121648564",
         "0.36410953630357706",
         "50.064168501453565"
        ],
        [
         "min",
         "24900.0",
         "2623.0",
         "140.0",
         "2.7300000190734863",
         "2.999999999999986",
         "4.820281982421875",
         "7.872074127197266",
         "1.0"
        ],
        [
         "25%",
         "29950.0",
         "9905.849999999999",
         "155.0",
         "3.1950000524520874",
         "65.0",
         "5.461704134941101",
         "9.163782596588135",
         "40.75"
        ],
        [
         "50%",
         "34700.0",
         "12740.0",
         "158.0",
         "3.2949999570846558",
         "82.1",
         "5.7137274742126465",
         "9.45249080657959",
         "83.5"
        ],
        [
         "75%",
         "41350.0",
         "15979.0",
         "161.0",
         "3.402500092983246",
         "102.6",
         "5.991465091705322",
         "9.679028749465942",
         "125.5"
        ],
        [
         "max",
         "78325.0",
         "20518.0",
         "171.0",
         "3.819999933242798",
         "206.0",
         "7.464509963989258",
         "9.929058074951172",
         "175.0"
        ]
       ],
       "shape": {
        "columns": 8,
        "rows": 8
       }
      },
      "text/html": [
       "<div>\n",
       "<style scoped>\n",
       "    .dataframe tbody tr th:only-of-type {\n",
       "        vertical-align: middle;\n",
       "    }\n",
       "\n",
       "    .dataframe tbody tr th {\n",
       "        vertical-align: top;\n",
       "    }\n",
       "\n",
       "    .dataframe thead th {\n",
       "        text-align: right;\n",
       "    }\n",
       "</style>\n",
       "<table border=\"1\" class=\"dataframe\">\n",
       "  <thead>\n",
       "    <tr style=\"text-align: right;\">\n",
       "      <th></th>\n",
       "      <th>salary</th>\n",
       "      <th>cost</th>\n",
       "      <th>LSAT</th>\n",
       "      <th>GPA</th>\n",
       "      <th>age</th>\n",
       "      <th>llibvol</th>\n",
       "      <th>lcost</th>\n",
       "      <th>rank</th>\n",
       "    </tr>\n",
       "  </thead>\n",
       "  <tbody>\n",
       "    <tr>\n",
       "      <th>count</th>\n",
       "      <td>156.000000</td>\n",
       "      <td>156.000000</td>\n",
       "      <td>156.000000</td>\n",
       "      <td>156.000000</td>\n",
       "      <td>156.000000</td>\n",
       "      <td>156.000000</td>\n",
       "      <td>156.000000</td>\n",
       "      <td>156.000000</td>\n",
       "    </tr>\n",
       "    <tr>\n",
       "      <th>mean</th>\n",
       "      <td>38771.723077</td>\n",
       "      <td>12685.958974</td>\n",
       "      <td>158.256410</td>\n",
       "      <td>3.299500</td>\n",
       "      <td>84.206410</td>\n",
       "      <td>5.753479</td>\n",
       "      <td>9.387447</td>\n",
       "      <td>83.750000</td>\n",
       "    </tr>\n",
       "    <tr>\n",
       "      <th>std</th>\n",
       "      <td>12025.830421</td>\n",
       "      <td>3953.913134</td>\n",
       "      <td>4.707923</td>\n",
       "      <td>0.201424</td>\n",
       "      <td>35.948848</td>\n",
       "      <td>0.415623</td>\n",
       "      <td>0.364110</td>\n",
       "      <td>50.064169</td>\n",
       "    </tr>\n",
       "    <tr>\n",
       "      <th>min</th>\n",
       "      <td>24900.000000</td>\n",
       "      <td>2623.000000</td>\n",
       "      <td>140.000000</td>\n",
       "      <td>2.730000</td>\n",
       "      <td>3.000000</td>\n",
       "      <td>4.820282</td>\n",
       "      <td>7.872074</td>\n",
       "      <td>1.000000</td>\n",
       "    </tr>\n",
       "    <tr>\n",
       "      <th>25%</th>\n",
       "      <td>29950.000000</td>\n",
       "      <td>9905.850000</td>\n",
       "      <td>155.000000</td>\n",
       "      <td>3.195000</td>\n",
       "      <td>65.000000</td>\n",
       "      <td>5.461704</td>\n",
       "      <td>9.163783</td>\n",
       "      <td>40.750000</td>\n",
       "    </tr>\n",
       "    <tr>\n",
       "      <th>50%</th>\n",
       "      <td>34700.000000</td>\n",
       "      <td>12740.000000</td>\n",
       "      <td>158.000000</td>\n",
       "      <td>3.295000</td>\n",
       "      <td>82.100000</td>\n",
       "      <td>5.713727</td>\n",
       "      <td>9.452491</td>\n",
       "      <td>83.500000</td>\n",
       "    </tr>\n",
       "    <tr>\n",
       "      <th>75%</th>\n",
       "      <td>41350.000000</td>\n",
       "      <td>15979.000000</td>\n",
       "      <td>161.000000</td>\n",
       "      <td>3.402500</td>\n",
       "      <td>102.600000</td>\n",
       "      <td>5.991465</td>\n",
       "      <td>9.679029</td>\n",
       "      <td>125.500000</td>\n",
       "    </tr>\n",
       "    <tr>\n",
       "      <th>max</th>\n",
       "      <td>78325.000000</td>\n",
       "      <td>20518.000000</td>\n",
       "      <td>171.000000</td>\n",
       "      <td>3.820000</td>\n",
       "      <td>206.000000</td>\n",
       "      <td>7.464510</td>\n",
       "      <td>9.929058</td>\n",
       "      <td>175.000000</td>\n",
       "    </tr>\n",
       "  </tbody>\n",
       "</table>\n",
       "</div>"
      ],
      "text/plain": [
       "             salary          cost        LSAT         GPA         age  \\\n",
       "count    156.000000    156.000000  156.000000  156.000000  156.000000   \n",
       "mean   38771.723077  12685.958974  158.256410    3.299500   84.206410   \n",
       "std    12025.830421   3953.913134    4.707923    0.201424   35.948848   \n",
       "min    24900.000000   2623.000000  140.000000    2.730000    3.000000   \n",
       "25%    29950.000000   9905.850000  155.000000    3.195000   65.000000   \n",
       "50%    34700.000000  12740.000000  158.000000    3.295000   82.100000   \n",
       "75%    41350.000000  15979.000000  161.000000    3.402500  102.600000   \n",
       "max    78325.000000  20518.000000  171.000000    3.820000  206.000000   \n",
       "\n",
       "          llibvol       lcost        rank  \n",
       "count  156.000000  156.000000  156.000000  \n",
       "mean     5.753479    9.387447   83.750000  \n",
       "std      0.415623    0.364110   50.064169  \n",
       "min      4.820282    7.872074    1.000000  \n",
       "25%      5.461704    9.163783   40.750000  \n",
       "50%      5.713727    9.452491   83.500000  \n",
       "75%      5.991465    9.679029  125.500000  \n",
       "max      7.464510    9.929058  175.000000  "
      ]
     },
     "execution_count": 5,
     "metadata": {},
     "output_type": "execute_result"
    }
   ],
   "source": [
    "variables.describe()"
   ]
  },
  {
   "cell_type": "code",
   "execution_count": null,
   "metadata": {},
   "outputs": [],
   "source": [
    "variables.to_csv('df_clean.csv')"
   ]
  },
  {
   "cell_type": "markdown",
   "metadata": {},
   "source": [
    "## X y split "
   ]
  },
  {
   "cell_type": "code",
   "execution_count": 72,
   "metadata": {},
   "outputs": [
    {
     "data": {
      "text/html": [
       "<div>\n",
       "<style scoped>\n",
       "    .dataframe tbody tr th:only-of-type {\n",
       "        vertical-align: middle;\n",
       "    }\n",
       "\n",
       "    .dataframe tbody tr th {\n",
       "        vertical-align: top;\n",
       "    }\n",
       "\n",
       "    .dataframe thead th {\n",
       "        text-align: right;\n",
       "    }\n",
       "</style>\n",
       "<table border=\"1\" class=\"dataframe\">\n",
       "  <thead>\n",
       "    <tr style=\"text-align: right;\">\n",
       "      <th></th>\n",
       "      <th>cost</th>\n",
       "      <th>LSAT</th>\n",
       "      <th>GPA</th>\n",
       "      <th>age</th>\n",
       "      <th>llibvol</th>\n",
       "      <th>lcost</th>\n",
       "      <th>rank</th>\n",
       "    </tr>\n",
       "  </thead>\n",
       "  <tbody>\n",
       "    <tr>\n",
       "      <th>0</th>\n",
       "      <td>8340.0</td>\n",
       "      <td>155.0</td>\n",
       "      <td>3.15</td>\n",
       "      <td>12.0</td>\n",
       "      <td>5.375278</td>\n",
       "      <td>9.028818</td>\n",
       "      <td>128</td>\n",
       "    </tr>\n",
       "    <tr>\n",
       "      <th>1</th>\n",
       "      <td>6980.0</td>\n",
       "      <td>160.0</td>\n",
       "      <td>3.50</td>\n",
       "      <td>113.0</td>\n",
       "      <td>5.545177</td>\n",
       "      <td>8.850804</td>\n",
       "      <td>104</td>\n",
       "    </tr>\n",
       "    <tr>\n",
       "      <th>2</th>\n",
       "      <td>16370.0</td>\n",
       "      <td>155.0</td>\n",
       "      <td>3.25</td>\n",
       "      <td>134.0</td>\n",
       "      <td>6.049734</td>\n",
       "      <td>9.703206</td>\n",
       "      <td>34</td>\n",
       "    </tr>\n",
       "    <tr>\n",
       "      <th>3</th>\n",
       "      <td>17566.0</td>\n",
       "      <td>157.0</td>\n",
       "      <td>3.20</td>\n",
       "      <td>89.0</td>\n",
       "      <td>5.796058</td>\n",
       "      <td>9.773721</td>\n",
       "      <td>49</td>\n",
       "    </tr>\n",
       "    <tr>\n",
       "      <th>4</th>\n",
       "      <td>8350.0</td>\n",
       "      <td>162.0</td>\n",
       "      <td>3.38</td>\n",
       "      <td>70.0</td>\n",
       "      <td>5.805135</td>\n",
       "      <td>9.030017</td>\n",
       "      <td>95</td>\n",
       "    </tr>\n",
       "    <tr>\n",
       "      <th>...</th>\n",
       "      <td>...</td>\n",
       "      <td>...</td>\n",
       "      <td>...</td>\n",
       "      <td>...</td>\n",
       "      <td>...</td>\n",
       "      <td>...</td>\n",
       "      <td>...</td>\n",
       "    </tr>\n",
       "    <tr>\n",
       "      <th>151</th>\n",
       "      <td>13530.0</td>\n",
       "      <td>162.0</td>\n",
       "      <td>3.34</td>\n",
       "      <td>206.0</td>\n",
       "      <td>5.703783</td>\n",
       "      <td>9.512665</td>\n",
       "      <td>17</td>\n",
       "    </tr>\n",
       "    <tr>\n",
       "      <th>152</th>\n",
       "      <td>11334.0</td>\n",
       "      <td>161.0</td>\n",
       "      <td>3.40</td>\n",
       "      <td>117.8</td>\n",
       "      <td>5.985650</td>\n",
       "      <td>9.335563</td>\n",
       "      <td>21</td>\n",
       "    </tr>\n",
       "    <tr>\n",
       "      <th>153</th>\n",
       "      <td>7396.0</td>\n",
       "      <td>157.0</td>\n",
       "      <td>3.40</td>\n",
       "      <td>65.0</td>\n",
       "      <td>5.159055</td>\n",
       "      <td>8.908694</td>\n",
       "      <td>143</td>\n",
       "    </tr>\n",
       "    <tr>\n",
       "      <th>154</th>\n",
       "      <td>19780.0</td>\n",
       "      <td>171.0</td>\n",
       "      <td>3.82</td>\n",
       "      <td>140.0</td>\n",
       "      <td>6.745236</td>\n",
       "      <td>9.892426</td>\n",
       "      <td>3</td>\n",
       "    </tr>\n",
       "    <tr>\n",
       "      <th>155</th>\n",
       "      <td>12870.0</td>\n",
       "      <td>154.6</td>\n",
       "      <td>3.15</td>\n",
       "      <td>72.6</td>\n",
       "      <td>5.298317</td>\n",
       "      <td>9.462654</td>\n",
       "      <td>120</td>\n",
       "    </tr>\n",
       "  </tbody>\n",
       "</table>\n",
       "<p>156 rows × 7 columns</p>\n",
       "</div>"
      ],
      "text/plain": [
       "        cost   LSAT   GPA    age   llibvol     lcost  rank\n",
       "0     8340.0  155.0  3.15   12.0  5.375278  9.028818   128\n",
       "1     6980.0  160.0  3.50  113.0  5.545177  8.850804   104\n",
       "2    16370.0  155.0  3.25  134.0  6.049734  9.703206    34\n",
       "3    17566.0  157.0  3.20   89.0  5.796058  9.773721    49\n",
       "4     8350.0  162.0  3.38   70.0  5.805135  9.030017    95\n",
       "..       ...    ...   ...    ...       ...       ...   ...\n",
       "151  13530.0  162.0  3.34  206.0  5.703783  9.512665    17\n",
       "152  11334.0  161.0  3.40  117.8  5.985650  9.335563    21\n",
       "153   7396.0  157.0  3.40   65.0  5.159055  8.908694   143\n",
       "154  19780.0  171.0  3.82  140.0  6.745236  9.892426     3\n",
       "155  12870.0  154.6  3.15   72.6  5.298317  9.462654   120\n",
       "\n",
       "[156 rows x 7 columns]"
      ]
     },
     "execution_count": 72,
     "metadata": {},
     "output_type": "execute_result"
    }
   ],
   "source": [
    "indepent = variables[[ 'cost' , 'LSAT' , 'GPA' ,'age' , 'llibvol' , 'lcost' , 'rank']]\n",
    "dependet = variables['salary']\n",
    "indepent"
   ]
  },
  {
   "cell_type": "code",
   "execution_count": 73,
   "metadata": {},
   "outputs": [
    {
     "name": "stdout",
     "output_type": "stream",
     "text": [
      "(156, 7) (156,)\n"
     ]
    }
   ],
   "source": [
    "X = indepent.to_numpy()\n",
    "y = dependet.to_numpy()\n",
    "\n",
    "print(X.shape , y.shape)"
   ]
  }
 ],
 "metadata": {
  "kernelspec": {
   "display_name": "Python 3",
   "language": "python",
   "name": "python3"
  },
  "language_info": {
   "codemirror_mode": {
    "name": "ipython",
    "version": 3
   },
   "file_extension": ".py",
   "mimetype": "text/x-python",
   "name": "python",
   "nbconvert_exporter": "python",
   "pygments_lexer": "ipython3",
   "version": "3.10.11"
  }
 },
 "nbformat": 4,
 "nbformat_minor": 2
}
